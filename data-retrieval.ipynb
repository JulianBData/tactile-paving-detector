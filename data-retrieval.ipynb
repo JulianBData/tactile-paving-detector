{
 "cells": [
  {
   "cell_type": "code",
   "execution_count": 1,
   "metadata": {},
   "outputs": [],
   "source": [
    "import requests\n",
    "import pandas as pd\n",
    "import json\n",
    "import urllib\n",
    "from dotenv import load_dotenv\n",
    "load_dotenv()\n",
    "import os"
   ]
  },
  {
   "cell_type": "markdown",
   "metadata": {},
   "source": [
    "# The Data\n",
    "To be able to classify if an image contains or doesn't contain tactile paving in it, we need labelled images. Luckily, there are crowd-sourced options that contain exactly this. On OpenStreetMap, people can place \"nodes\" (points) and indicate if there is tactile paving there or not. They can also link to a platform called Mapillary where images are hosted and combined onto a map. Using these two parts, we can get images labeled as \"yes\" or \"no\" for tactile paving.\n",
    "\n",
    "First, I queried an API called [overpass turbo](https://overpass-turbo.eu/#) where I filtered the nodes where it contains a mapillary image and tactile paving. These nodes are exported as a `.json` file where I extracted the mapillary link. These links contain the original unique image ID. When Meta bought Mapillary, the image ID's were changed. Because of this, the OSM mapillary link actually redirect to a new unique image ID. I used `urllib` to get the redirect links that contain the image ID's that are in the Mapillary ID. With these image ID's, I queried the Mapillary API and extracted the url to download the 256px images. I then used `requests` to download the images and split them into train, validation, and test directories. This was repeated for an equal number of images that did not contain tactile paving. In total, 12,000 images were downloaded with half labeled as no tactile paving and half labeled as tactile paving.\n",
    "\n",
    "OSM query -> redirect url -> Mapillary API query -> image download\n",
    "\n",
    "All images were downloaded from [Mapillary](https://www.mapillary.com/). Mapillary does not endorse me or the use of the images in this project.\n",
    "\n",
    "Let's get to it."
   ]
  },
  {
   "cell_type": "markdown",
   "metadata": {},
   "source": [
    "## Tactile Paving Images"
   ]
  },
  {
   "cell_type": "markdown",
   "metadata": {},
   "source": [
    "First, export the query (see query.txt) from overpass turbo. This includes all points with `tactile_paving=yes` and has a `mapillary` image."
   ]
  },
  {
   "cell_type": "code",
   "execution_count": 2,
   "metadata": {},
   "outputs": [],
   "source": [
    "with open(\"export-tp.geojson\") as f:\n",
    "    osm_data = json.load(f)"
   ]
  },
  {
   "cell_type": "code",
   "execution_count": 3,
   "metadata": {},
   "outputs": [],
   "source": [
    "mapillary_pkeys = []\n",
    "\n",
    "for node in osm_data[\"features\"]:\n",
    "    mapillary_pkeys.append(node[\"properties\"][\"mapillary\"])"
   ]
  },
  {
   "cell_type": "markdown",
   "metadata": {},
   "source": [
    "Now, we convert them to a mapillary url. This redirects to a url that has a different key (probably from when Facebook bought the company). We need *that* image id to query the mapillary API."
   ]
  },
  {
   "cell_type": "code",
   "execution_count": 5,
   "metadata": {},
   "outputs": [],
   "source": [
    "for i in range(len(mapillary_pkeys)):\n",
    "    mapillary_pkeys[i] = \"https://www.mapillary.com/map/im/\" + mapillary_pkeys[i]"
   ]
  },
  {
   "cell_type": "code",
   "execution_count": 13,
   "metadata": {},
   "outputs": [],
   "source": [
    "def resolve(url):\n",
    "    return urllib.request.urlopen(url).geturl() # gets redirect url"
   ]
  },
  {
   "cell_type": "code",
   "execution_count": 14,
   "metadata": {},
   "outputs": [
    {
     "data": {
      "text/plain": [
       "'https://www.mapillary.com/app?pKey=164164019045134'"
      ]
     },
     "execution_count": 14,
     "metadata": {},
     "output_type": "execute_result"
    }
   ],
   "source": [
    "resolve(mapillary_pkeys[0])"
   ]
  },
  {
   "cell_type": "code",
   "execution_count": 16,
   "metadata": {},
   "outputs": [
    {
     "name": "stdout",
     "output_type": "stream",
     "text": [
      "100\n",
      "200\n",
      "300\n",
      "400\n",
      "500\n",
      "600\n",
      "700\n",
      "800\n",
      "900\n",
      "1000\n",
      "1100\n",
      "1200\n",
      "1300\n",
      "1400\n",
      "1500\n",
      "1600\n",
      "1700\n",
      "1800\n",
      "1900\n",
      "2000\n",
      "2100\n",
      "2200\n",
      "2300\n",
      "2400\n",
      "2500\n",
      "2600\n",
      "2700\n",
      "2800\n",
      "2900\n",
      "3000\n",
      "3100\n",
      "3200\n",
      "3300\n",
      "3400\n",
      "3500\n",
      "3600\n",
      "3700\n",
      "3800\n",
      "3900\n",
      "4000\n",
      "4100\n",
      "4200\n",
      "4300\n",
      "4400\n",
      "4500\n",
      "4600\n",
      "4700\n",
      "4800\n",
      "4900\n",
      "5000\n",
      "5100\n",
      "5200\n",
      "5300\n",
      "5400\n",
      "5500\n",
      "5600\n",
      "5700\n",
      "5800\n",
      "5900\n",
      "6000\n",
      "6100\n",
      "6200\n"
     ]
    }
   ],
   "source": [
    "new_urls = []\n",
    "i = 0\n",
    "\n",
    "for url in mapillary_pkeys:\n",
    "\n",
    "    new_urls.append(resolve(url))\n",
    "\n",
    "    i += 1\n",
    "    if i % 100 == 0: # save progress every 100 urls\n",
    "        print(i)\n",
    "        with open(\"urls.txt\", \"w\") as f:\n",
    "            f.writelines(\"%s\\n\" % url for url in new_urls)"
   ]
  },
  {
   "cell_type": "code",
   "execution_count": 17,
   "metadata": {},
   "outputs": [
    {
     "data": {
      "text/plain": [
       "6203"
      ]
     },
     "execution_count": 17,
     "metadata": {},
     "output_type": "execute_result"
    }
   ],
   "source": [
    "len(new_urls)"
   ]
  },
  {
   "cell_type": "code",
   "execution_count": 23,
   "metadata": {},
   "outputs": [],
   "source": [
    "with open(\"urls.txt\", \"w\") as f:\n",
    "    f.writelines(\"%s\\n\" % url for url in new_urls)"
   ]
  },
  {
   "cell_type": "markdown",
   "metadata": {},
   "source": [
    "The actual urls have the structure: `https://www.mapillary.com/app/?pKey=3890424561071633` and we need the portion after the equals sign. This is the image ID that the API expects."
   ]
  },
  {
   "cell_type": "code",
   "execution_count": 18,
   "metadata": {},
   "outputs": [],
   "source": [
    "image_ids = []\n",
    "\n",
    "for url in new_urls:\n",
    "    image_ids.append(url.split(\"=\", 1)[-1])"
   ]
  },
  {
   "cell_type": "markdown",
   "metadata": {},
   "source": [
    "Let's push these ids through the API."
   ]
  },
  {
   "cell_type": "code",
   "execution_count": 19,
   "metadata": {},
   "outputs": [
    {
     "name": "stdout",
     "output_type": "stream",
     "text": [
      "100\n",
      "O8LGVyzT9a76e4QaRBTlbQ\n",
      "200\n",
      "300\n",
      "R-I7E4DMevSj6P0fZD2ExQ\n",
      "400\n",
      "500\n",
      "600\n",
      "700\n",
      "KKmc1rB3-ZNWmW7uEd0wwg\n",
      "Ydr6ZIgBZrcRtN3-6jYdwA\n",
      "sbOETBVsFYDO39srP76uFg\n",
      "MFg6dBGJeZxXJV8pIXKxBg\n",
      "350mVLzDAYpurfujJuziJA\n",
      "800\n",
      "W6a8rLLooGT9Xa4ffDuK3g\n",
      "bmzhKkOYnMSyMPpwn4q7KA\n",
      "900\n",
      "1000\n",
      "ImRTdJ7tn4Y55sa1IWQBVQ\n",
      "1100\n",
      "1200\n",
      "Q_Uv1qxO6TrnIPuKPtVD2w\n",
      "1300\n",
      "zl1fyilM66NmOc77uHR8XA\n",
      "1400\n",
      "prRfLARvAdQ57uQxuvz35Q\n",
      "dUzXVQn7QKWfQI9t4sh2Wg\n",
      "4FWceGJJaA51kTR8mZS8NQ\n",
      "h5ay5jzmdRmYD7kK-jAw0g\n",
      "R-I7E4DMevSj6P0fZD2ExQ\n",
      "RAgrKCZsKwNLDJkmCA3EuQ\n",
      "uoLKRwU8B95QGLqamLki9A\n",
      "1500\n",
      "HSRnlIgOSWLX3Bz2vanNzQ\n",
      "ADoYEmF4dfyxnXcHfq-Paw\n",
      "P6b8g3HZUNORJY7dd7w99g\n",
      "1600\n",
      "C8ejC9u-5ydVDinzttpfBA\n",
      "KxTimNnMQYMMGvQMT5tTlw\n",
      "1700\n",
      "kJlQkmH4GQxwblcaIo94Hg\n",
      "WsuFGt31zfLltN548v1V0A\n",
      "lh4rvo6_15M9d-Avk95DTg\n",
      "1800\n",
      "1900\n",
      "tX19XtBQITTEy-8L-4W1bA\n",
      "2000\n",
      "2100\n",
      "yNn8VsAJEMdIAjHWx-X9gA\n",
      "t59cOniN6Gev7zoA74PmPC\n",
      "2200\n",
      "7ZVWQk3X4uGq2QCvRFPo3A\n",
      "wN2IMdUow4EOoY05ZOz7oA\n",
      "dnzLOO4ErueLA0Y0sS1gRA\n",
      "2300\n",
      "6ba_vmD2_MV5j1Y_hEKz1A\n",
      "2400\n",
      "1HpiiXvYZUDZ6YbqDhVQOA\n",
      "Y8MU8LP_--VOMCJNf5-vqg\n",
      "5lrftrqZgqSG3W2tVe8uWg\n",
      "2500\n",
      "Hm9S2hs0XMW-0kaYt0CaVQ\n",
      "1XkKYU2iDHfYPYR5qEDOPA\n",
      "-fieundtkTemRQ7t4b6Jkg\n",
      "uipDerAcw9PsK4uLfFa5Wt\n",
      "2600\n",
      "2700\n",
      "2800\n",
      "2900\n",
      "H8uk3D0CGnVVANUDnFZkpw\n",
      "2kfGR73qFWhXHvtAioqR6Q\n",
      "j6RBWfLkAdLjGOwtCGzgJA\n",
      "_O63s7yOayu2_PJ9Rf6Y1A\n",
      "3000\n",
      "Rrki0KaU0swq-bEOsoZV7w\n",
      "3100\n",
      "or3WMwaq-naXk9nvadBu9w\n",
      "3200\n",
      "TFn8bLHB3L1iRe6o-nnFVA\n",
      "112346107591494\n",
      "819090805675628\n",
      "3300\n",
      "3400\n",
      "ouDS-wQpfZpHQyHHqs_WNA\n",
      "4aYrG1BOnUaxHOz4yBuzdw\n",
      "3500\n",
      "3600\n",
      "OnwR-FipmfS2ZsZF8JZEXQ\n",
      "3700\n",
      "http%3A\n",
      "21SEBFbTd1lq3wDtsomG1Q\n",
      "16238GtqVOHo5pwE8RbUtg\n",
      "3800\n",
      "qFPJzuUPdXl8dM9akcGOFQ\n",
      "3900\n",
      "V3t76eOGXmgsAZmB3dOI1A\n",
      "u5W5SY07EUkXyziWtA3N8w\n",
      "wsTjZWOq0wpXqnvp-F-u0A\n",
      "gXhzRlw4DlwmC91Ihp8dHA\n",
      "4000\n",
      "ZfscGg5y-EkvtGqYPfQ93g\n",
      "NtaXQC5fES-Bvh_foOVvOA\n",
      "4100\n",
      "FAl8IEgdLXWTMg3I9kT9Iw\n",
      "4200\n",
      "https%3A\n",
      "4300\n",
      "V5sNFPVOHvF3Vizur6k7OQ\n",
      "V3t76eOGXmgsAZmB3dOI1A\n",
      "4400\n",
      "4500\n",
      "O7UMlBLThr8Rpqj0SFfA0A\n",
      "xbuht6flzthoKy_3GmIzCQ\n",
      "mSaHgoqgJyfTmuNKb177jQ\n",
      "BoksxGBykaJzH8Zd2IXeCA\n",
      "aAfYL1cje1GnUTx6ASK5HA\n",
      "4600\n",
      "4700\n",
      "4800\n",
      "4900\n",
      "xpNpiEYSltVVn88Vf5TEBw\n",
      "ARGjCbHsA_u7z8TWkQbtJg\n",
      "FUI4xYAe-dpC3JdRliz17w\n",
      "eyiv1v9ctCko--WILEqyNw\n",
      "v57c_YeXU7pWFOlW0YYplA\n",
      "5000\n",
      "https%3A\n",
      "https%3A\n",
      "5100\n",
      "5200\n",
      "-7UJR0vkUKXqJUJDVBCEdw\n",
      "5300\n",
      "5400\n",
      "5500\n",
      "l-5cTSBL3TKBGoRip8Y6Ng%3B9vFWeq-PKqWMQSTPPbcBag\n",
      "JlfaIBZZmvOnAuqzmCIHjM\n",
      "82ZKd0uhEd3GY4lFeoqQxA\n",
      "5600\n",
      "https%3A\n",
      "5700\n",
      "ht9nzoV7yn4EOsJiUdMDUYEQ\n",
      "NF_r2MotHsb48BJ-5JVvEw%3BL8EpNZwp_m0Q2pxS3M3QuA\n",
      "5800\n",
      "S8amkHkz8JpdfD43wYUECg\n",
      "5900\n",
      "https%3A\n",
      "https%3A\n",
      "cD-F_KQU2WSRR_MHREbLtw%3B4nr7M7u0vfTFkf4VnrLD-w\n",
      "6000\n",
      "Dsyyuf4kPwJ4KBoA9dsiKA\n",
      "https%3A\n",
      "https%3A\n",
      "6100\n"
     ]
    }
   ],
   "source": [
    "d = {\n",
    "    \"thumb_256_url\": [],\n",
    "    \"id\": []\n",
    "}\n",
    "i = 0\n",
    "\n",
    "TOKEN = os.getenv(\"TOKEN\")\n",
    "\n",
    "for id in image_ids:\n",
    "    url = f\"https://graph.mapillary.com/{id}?access_token={TOKEN}&fields=thumb_256_url\" # can also use 1024 or 2048 px\n",
    "\n",
    "    response = requests.get(url)\n",
    "\n",
    "    if response.status_code != 200:\n",
    "        print(id)\n",
    "    else:\n",
    "        rJson = response.json()\n",
    "\n",
    "        d[\"thumb_256_url\"].append(rJson[\"thumb_256_url\"])\n",
    "        d[\"id\"].append(rJson[\"id\"])\n",
    "\n",
    "        i += 1\n",
    "        if i % 100 == 0: # save every 100\n",
    "            print(i)\n",
    "            with open(\"api-urls.txt\", \"w\") as f:\n",
    "                f.writelines(\"%s\\n\" % url for url in d[\"thumb_256_url\"])\n"
   ]
  },
  {
   "cell_type": "code",
   "execution_count": 20,
   "metadata": {},
   "outputs": [
    {
     "name": "stdout",
     "output_type": "stream",
     "text": [
      "6110 images available\n"
     ]
    }
   ],
   "source": [
    "print(f\"{i} images available\")"
   ]
  },
  {
   "cell_type": "markdown",
   "metadata": {},
   "source": [
    "Nice! Now we have the download url for each image. Let's download them."
   ]
  },
  {
   "cell_type": "code",
   "execution_count": 24,
   "metadata": {},
   "outputs": [],
   "source": [
    "for i in range(len(d[\"id\"])):\n",
    "    \n",
    "    img = requests.get(d[\"thumb_256_url\"][i]).content\n",
    "\n",
    "\n",
    "    if i <= 4000:\n",
    "        with open(f\"split-images/train/tp/tp.{i}.jpg\", \"wb\") as f:\n",
    "            f.write(img)\n",
    "    elif i < 5400 and i > 4000:\n",
    "        with open(f\"split-images/validation/tp/tp.{i}.jpg\",\"wb\") as f:\n",
    "            f.write(img)\n",
    "    else:\n",
    "        with open(f\"split-images/test/tp/tp.{i}.jpg\", \"wb\") as f:\n",
    "            f.write(img)"
   ]
  },
  {
   "cell_type": "markdown",
   "metadata": {},
   "source": [
    "This results in a roughly 65/23/12 train/validation/test split. Let's do the same with images without tactile paving."
   ]
  },
  {
   "cell_type": "markdown",
   "metadata": {},
   "source": [
    "## No Tactile Paving"
   ]
  },
  {
   "cell_type": "code",
   "execution_count": 25,
   "metadata": {},
   "outputs": [],
   "source": [
    "with open(\"export-notp.geojson\") as f:\n",
    "    osm_data = json.load(f)"
   ]
  },
  {
   "cell_type": "code",
   "execution_count": 26,
   "metadata": {},
   "outputs": [],
   "source": [
    "mapillary_pkeys = []\n",
    "\n",
    "for node in osm_data[\"features\"]:\n",
    "    mapillary_pkeys.append(node[\"properties\"][\"mapillary\"])"
   ]
  },
  {
   "cell_type": "code",
   "execution_count": 27,
   "metadata": {},
   "outputs": [],
   "source": [
    "for i in range(len(mapillary_pkeys)):\n",
    "    mapillary_pkeys[i] = \"https://www.mapillary.com/map/im/\" + mapillary_pkeys[i]"
   ]
  },
  {
   "cell_type": "code",
   "execution_count": 28,
   "metadata": {},
   "outputs": [
    {
     "name": "stdout",
     "output_type": "stream",
     "text": [
      "100\n",
      "200\n",
      "300\n",
      "400\n",
      "500\n",
      "600\n",
      "700\n",
      "800\n",
      "900\n",
      "1000\n",
      "1100\n",
      "1200\n",
      "1300\n",
      "1400\n",
      "1500\n",
      "1600\n",
      "1700\n",
      "1800\n",
      "1900\n",
      "2000\n",
      "2100\n",
      "2200\n",
      "2300\n",
      "2400\n",
      "2500\n",
      "2600\n",
      "2700\n",
      "2800\n",
      "2900\n",
      "3000\n",
      "3100\n",
      "3200\n",
      "3300\n",
      "3400\n",
      "3500\n",
      "3600\n",
      "3700\n",
      "3800\n",
      "3900\n",
      "4000\n",
      "4100\n",
      "4200\n",
      "4300\n",
      "4400\n",
      "4500\n",
      "4600\n",
      "4700\n",
      "4800\n",
      "4900\n",
      "5000\n",
      "5100\n",
      "5200\n",
      "5300\n",
      "5400\n",
      "5500\n",
      "5600\n",
      "5700\n",
      "5800\n",
      "5900\n",
      "6000\n",
      "6100\n",
      "6200\n"
     ]
    }
   ],
   "source": [
    "new_urls = []\n",
    "i = 0\n",
    "\n",
    "for url in mapillary_pkeys:\n",
    "\n",
    "    new_urls.append(resolve(url))\n",
    "\n",
    "    i += 1\n",
    "    if i % 100 == 0: # save progress every 100 urls\n",
    "        print(i)\n",
    "        with open(\"urls-notp.txt\", \"w\") as f:\n",
    "            f.writelines(\"%s\\n\" % url for url in new_urls)"
   ]
  },
  {
   "cell_type": "code",
   "execution_count": 29,
   "metadata": {},
   "outputs": [],
   "source": [
    "image_ids = []\n",
    "\n",
    "for url in new_urls:\n",
    "    image_ids.append(url.split(\"=\", 1)[-1])"
   ]
  },
  {
   "cell_type": "code",
   "execution_count": 30,
   "metadata": {},
   "outputs": [
    {
     "name": "stdout",
     "output_type": "stream",
     "text": [
      "https%3A\n",
      "100\n",
      "200\n",
      "Ik-9uCYHxhH_kFNxH3QAeQ\n",
      "http%3A\n",
      "http%3A\n",
      "http%3A\n",
      "http%3A\n",
      "q6e7OdZioE1aYEJlP5e2fQ\n",
      "7a15XZaXaoya_w8mXaPyUQ\n",
      "http%3A\n",
      "http%3A\n",
      "http%3A\n",
      "http%3A\n",
      "http%3A\n",
      "300\n",
      "400\n",
      "http%3A\n",
      "500\n",
      "600\n",
      "700\n",
      "ZSUKnVB3R7GUgYCyUmKKvA\n",
      "800\n",
      "AVLVfDxVoqWoXfXsqZ44VQ\n",
      "082xOQ3C5RIkZoiwSYhG3g\n",
      "z3fDvSHGYXVVEwKXOrClAg\n",
      "gd7fOpDcfZriW4MZd_0OZw\n",
      "-jsVrdipzPIuixwj5rYs8Q\n",
      "900\n",
      "1000\n",
      "BKALaNoH-5j8Oi4ivPJ8nQ\n",
      "3n75O4Hfk84OcsuNEkSf0Q\n",
      "1100\n",
      "1200\n",
      "1300\n",
      "Mqu9-l3Lzmt0mImWL1tnsw\n",
      "Izy0-lkkbxZ4IZnyuM7oRA\n",
      "1400\n",
      "dvx6LXLe5JDBGPBzHcTkYg\n",
      "1500\n",
      "SxuxFi12PP7ryXcVTwJyWw\n",
      "twqj9ayAOqn5JXG-3dRd8g\n",
      "UCsQ_LM1jP5tsqrHr9OEaQ\n",
      "1W8R3VTdhuZNgSliJuoyow\n",
      "1600\n",
      "roOITnfJZPGcp4ds4lm7HA\n",
      "1700\n",
      "TbwMjgED_uygmjmhmUIX4A%3B-XP1sfVYDICN8nsbZ6YMIw\n",
      "1800\n",
      "Ge4YkkghNaVzPf1MzBiWdA%3Bh4Bs4aimMbNASEjeIIbVYg\n",
      "zriQ4E5wCxZrE3sBD62hwA\n",
      "1900\n",
      "cDeAPJtpWfG-uK-p13kfaw\n",
      "2000\n",
      "0oqfzUtod1ctG6ZYdwSL_A\n",
      "ig6in9phf5m7wy4q35lyxr\n",
      "2100\n",
      "2200\n",
      "53fbckCzece6n9meXUA6ZQ\n",
      "UzmyM11q4K0M92IWgkTEeg\n",
      "jZsqoCOjVxETJ0pW3cqHAA\n",
      "Vx5x8GXVuefxpq3xwgnFAg\n",
      "RjpHDmExkjc3R73RnuBSfQ\n",
      "AIw2vu5QUFzM0YLjXm8o8w\n",
      "2300\n",
      "HR9RpuiaquaorP6NGJ1PhA\n",
      "iQKI0iYf95sq09us-4gfWQ\n",
      "2400\n",
      "2500\n",
      "i9KMBBpUISXai1jN-Z8CPg\n",
      "2600\n",
      "W74EuMfU0BNvpwLgonxwSw\n",
      "2700\n",
      "wNdfQP65DfXLVDYssBIpBQ\n",
      "2800\n",
      "uAmhAT9g7DSM8O3Oo_5HRQ\n",
      "6Pwt8Q62wSMFQ6CtMIv5oT\n",
      "2900\n",
      "Q4650XOv9FYy_Ok_gyHfDg%3BxTv3NphIfVcJk76iVCF5Cw\n",
      "zOEDt9Tja_0pcxtUYQyuPA\n",
      "3000\n",
      "DhZTSZmqCKLSJl7n-2NR-g%3ButrvFNOh48rTiBpjYPIA4w\n",
      "3100\n",
      "3200\n",
      "bMLHt-tVSI__iSd_OOwUQg\n",
      "3300\n",
      "krgA3ulf8sPEkZ0EWGpfYA\n",
      "http%3A\n",
      "3400\n",
      "Hu4lkver9fhgAMRMcRGwxx\n",
      "3500\n",
      "3600\n",
      "Ril9U95yxpuQiNJ75g_rcQ\n",
      "7dMNFoIoNy8WNvWoNLfpXR\n",
      "https%3A\n",
      "3700\n",
      "2allZmgkhTVgsED_2UBAPA\n",
      "y60SwwapAzDneBkPquBfFw\n",
      "3800\n",
      "4LKxBOco7dR6qcIpkc5LMA\n",
      "Vwdgz9GSwuaG4ro6oua4_A\n",
      "8YFzN4nCXhsU_pcROgA7Fg\n",
      "3900\n",
      "bGy5KWpgRCmeaCVRvoNLyA\n",
      "D5aUPzf_h452vvyoP3nReA\n",
      "EFPTR-3Z3Aa8rf57nr5GCg\n",
      "mitCimkv5fubFJQuauUV2g\n",
      "5RNNYliMKq-82xoPKKUPUA\n",
      "4000\n",
      "m3U-8WUPxDxOLna5IJD9Iw\n",
      "ogxSFCCUulTGZoEhAtghCQ\n",
      "4100\n",
      "gzgZ6czXPcKK4LsLJcEZAA\n",
      "https%3A\n",
      "4200\n",
      "-b5M_dER3pw9QNtacP0e4Q\n",
      "9QKwXEZ8CBOKFm2RkCjD0A\n",
      "4300\n",
      "Zm4AzgwJXSSCHHIOs1O_LA\n",
      "vCI_13L26pUG5obg_0zd9w\n",
      "https%3A\n",
      "4400\n",
      "p1VIyHhvbuqt9zy28ZdjT1\n",
      "4500\n",
      "Ik-9uCYHxhH_kFNxH3QAeQ\n",
      "KQQAkvnEdory_GEjCPgUmg\n",
      "DNUdzjWtGuBm8wg9Z7TOiw\n",
      "uEPmURMV0xn5_J6pHGv_zg\n",
      "4600\n",
      "https%3A\n",
      "4700\n",
      "4800\n",
      "Mqu9-l3Lzmt0mImWL1tnsw\n",
      "EpZWgY3MjTBvGwGiNBabZn\n",
      "zB4fzSvGUDLy6ihaCUJWvA\n",
      "zB4fzSvGUDLy6ihaCUJWvA\n",
      "JdxYp53cOsPkKbFgqZKhMw\n",
      "edlNy_c8iGR-sr4sBMuc6w\n",
      "vb9qOaWGKFoHezXIM4nl6w\n",
      "7oGr9FuxXegDprwJ1cTfUg\n",
      "RI952aaRwaiWRQDBy7jSrA\n",
      "4900\n",
      "5000\n",
      "8OVm3WtmMYRDMo_-tUFNBg\n",
      "hJETpyBxWONG3cNI7QiaUA\n",
      "6YCdzODrSZVfTOu1VsrqJQ\n",
      "qefC8gB_w0tS2DOGVB1BwQ\n",
      "5100\n",
      "giBxzHXxI8D01vrcLqVZmA\n",
      "qt8FYDep0_-KO7MdOzGFcw\n",
      "zB4fzSvGUDLy6ihaCUJWvA\n",
      "5200\n",
      "wUCgTX5-PCDGMEYa4_oMEw\n",
      "cpuxVgvIXcZVtxBBpAZTaA\n",
      "lx1qK3dzg15LvQhV5w-9Kw\n",
      "_5Jv-LAax0m8zoScXVTCmQ\n",
      "5300\n",
      "5400\n",
      "AazC2ua6ZQVNoEIIvm5A8I\n",
      "5500\n",
      "5600\n",
      "5700\n",
      "5800\n",
      "https%3A\n",
      "5900\n",
      "6000\n",
      "T5wSvJQuafeiLbahrQfrSQ\n"
     ]
    }
   ],
   "source": [
    "d = {\n",
    "    \"thumb_256_url\": [],\n",
    "    \"id\": []\n",
    "}\n",
    "i = 0\n",
    "\n",
    "for id in image_ids:\n",
    "    url = f\"https://graph.mapillary.com/{id}?access_token={TOKEN}&fields=thumb_256_url\" # can also use 1024 or 2048 px\n",
    "\n",
    "    response = requests.get(url)\n",
    "\n",
    "    if response.status_code != 200:\n",
    "        print(id)\n",
    "    else:\n",
    "        rJson = response.json()\n",
    "\n",
    "        d[\"thumb_256_url\"].append(rJson[\"thumb_256_url\"])\n",
    "        d[\"id\"].append(rJson[\"id\"])\n",
    "\n",
    "        i += 1\n",
    "        if i % 100 == 0: # save every 100\n",
    "            print(i)\n",
    "            with open(\"api-urls-notp.txt\", \"w\") as f:\n",
    "                f.writelines(\"%s\\n\" % url for url in d[\"thumb_256_url\"])"
   ]
  },
  {
   "cell_type": "code",
   "execution_count": 31,
   "metadata": {},
   "outputs": [
    {
     "name": "stdout",
     "output_type": "stream",
     "text": [
      "6096 available images\n"
     ]
    }
   ],
   "source": [
    "print(f\"{i} available images\")"
   ]
  },
  {
   "cell_type": "code",
   "execution_count": 32,
   "metadata": {},
   "outputs": [],
   "source": [
    "for i in range(len(d[\"id\"])):\n",
    "    \n",
    "    img = requests.get(d[\"thumb_256_url\"][i]).content\n",
    "\n",
    "\n",
    "    if i <= 4000:\n",
    "        with open(f\"split-images/train/notp/notp.{i}.jpg\", \"wb\") as f:\n",
    "            f.write(img)\n",
    "    elif i < 5400 and i > 4000:\n",
    "        with open(f\"split-images/validation/notp/notp.{i}.jpg\",\"wb\") as f:\n",
    "            f.write(img)\n",
    "    else:\n",
    "        with open(f\"split-images/test/notp/notp.{i}.jpg\", \"wb\") as f:\n",
    "            f.write(img)"
   ]
  },
  {
   "cell_type": "markdown",
   "metadata": {},
   "source": [
    "And there it is! After hours of scraping, calling, and downloading, all the photos are ready."
   ]
  },
  {
   "cell_type": "markdown",
   "metadata": {},
   "source": []
  }
 ],
 "metadata": {
  "interpreter": {
   "hash": "0e8d1603a0ed527487540993e09cc2d820a2c3731e83a949b918fdeb45b986f3"
  },
  "kernelspec": {
   "display_name": "Python 3.9.9 64-bit ('base': conda)",
   "language": "python",
   "name": "python3"
  },
  "language_info": {
   "codemirror_mode": {
    "name": "ipython",
    "version": 3
   },
   "file_extension": ".py",
   "mimetype": "text/x-python",
   "name": "python",
   "nbconvert_exporter": "python",
   "pygments_lexer": "ipython3",
   "version": "3.7.12"
  },
  "orig_nbformat": 4
 },
 "nbformat": 4,
 "nbformat_minor": 2
}
